{
 "cells": [
  {
   "cell_type": "code",
   "execution_count": 1,
   "metadata": {},
   "outputs": [],
   "source": [
    "from DDPG.ddpg import DDPG\n",
    "from DDPG.noise import OrnsteinUhlenbeckActionNoise, NormalNoise\n",
    "from DDPG.replay_memory import ReplayMemory, Transition\n",
    "\n",
    "from Simulator.Constants import WIN_THRESHOLD, IMG_HEIGHT, IMG_WIDTH, NUM_FRAMES_STACKED\n",
    "from DDPG.DriveEnv import DriveEnv\n",
    "\n",
    "import torch\n",
    "import numpy as np"
   ]
  },
  {
   "cell_type": "code",
   "execution_count": 2,
   "metadata": {},
   "outputs": [
    {
     "name": "stderr",
     "output_type": "stream",
     "text": [
      "Saving all checkpoints to ./saved_models/\n"
     ]
    },
    {
     "ename": "OSError",
     "evalue": "Checkpoint not found",
     "output_type": "error",
     "traceback": [
      "\u001b[0;31m---------------------------------------------------------------------------\u001b[0m",
      "\u001b[0;31mOSError\u001b[0m                                   Traceback (most recent call last)",
      "Cell \u001b[0;32mIn[2], line 12\u001b[0m\n\u001b[1;32m      4\u001b[0m env \u001b[39m=\u001b[39m DriveEnv()\n\u001b[1;32m      5\u001b[0m agent \u001b[39m=\u001b[39m DDPG(\u001b[39m0\u001b[39m,\n\u001b[1;32m      6\u001b[0m              \u001b[39m0\u001b[39m,\n\u001b[1;32m      7\u001b[0m              [\u001b[39m400\u001b[39m, \u001b[39m300\u001b[39m],\n\u001b[1;32m      8\u001b[0m              IMG_HEIGHT \u001b[39m*\u001b[39m IMG_WIDTH \u001b[39m*\u001b[39m NUM_FRAMES_STACKED,\n\u001b[1;32m      9\u001b[0m              env\u001b[39m.\u001b[39maction_space,\n\u001b[1;32m     10\u001b[0m              )\n\u001b[0;32m---> 12\u001b[0m agent\u001b[39m.\u001b[39;49mload_checkpoint(checkpoint_file)\n",
      "File \u001b[0;32m~/Desktop/targetAcquisition/TargetAquisition/DDPG/ddpg.py:240\u001b[0m, in \u001b[0;36mDDPG.load_checkpoint\u001b[0;34m(self, checkpoint_path)\u001b[0m\n\u001b[1;32m    238\u001b[0m     \u001b[39mreturn\u001b[39;00m start_timestep, \u001b[39mNone\u001b[39;00m\n\u001b[1;32m    239\u001b[0m \u001b[39melse\u001b[39;00m:\n\u001b[0;32m--> 240\u001b[0m     \u001b[39mraise\u001b[39;00m \u001b[39mOSError\u001b[39;00m(\u001b[39m'\u001b[39m\u001b[39mCheckpoint not found\u001b[39m\u001b[39m'\u001b[39m)\n",
      "\u001b[0;31mOSError\u001b[0m: Checkpoint not found"
     ]
    }
   ],
   "source": [
    "checkpoint_file =  \"saved_models_converge_1/ep_1800.pth.tar\"\n",
    "device = torch.device(\"cuda\" if torch.cuda.is_available() else \"cpu\")\n",
    "\n",
    "env = DriveEnv()\n",
    "agent = DDPG(0,\n",
    "             0,\n",
    "             [400, 300],\n",
    "             IMG_HEIGHT * IMG_WIDTH * NUM_FRAMES_STACKED,\n",
    "             env.action_space,\n",
    "             )\n",
    "\n",
    "agent.load_checkpoint(checkpoint_file)"
   ]
  },
  {
   "cell_type": "code",
   "execution_count": null,
   "metadata": {},
   "outputs": [],
   "source": [
    "def evaluate():\n",
    "    agent.actor.eval()\n",
    "    state = env.reset()\n",
    "    memory = env.runEpisode(agent, None)\n",
    "    return memory"
   ]
  },
  {
   "cell_type": "code",
   "execution_count": null,
   "metadata": {},
   "outputs": [],
   "source": [
    "memory = evaluate()\n",
    "poses = [(i[0][3], i[0][4]) for i in env.controllerRecords]\n",
    "\n",
    "#normalize poses to start at 0,0\n",
    "# poses = [(i[0] - poses[0][0], i[1] - poses[0][1]) for i in poses]\n",
    "currents = [(i[0][5], i[0][6]) for i in env.controllerRecords]\n",
    "voltages = []\n",
    "\n",
    "frames, rewards, next_frames, dones = [], [], [], []\n",
    "for transition in memory:\n",
    "    state, action, reward, next_state, done = transition\n",
    "    frames.append(state.numpy()[3, :, :])\n",
    "    rewards.append(reward)\n",
    "    next_frames.append(next_state)\n",
    "    dones.append(done)\n",
    "    voltages.append(action.cpu().numpy())\n",
    "\n",
    "#trim poses to length of frames\n",
    "poses = poses[:len(frames)]\n",
    "currents = currents[:len(frames)]\n",
    "\n",
    "#convert voltages to range -12 to 12\n",
    "voltages = [(i[0] * 12, i[1] * 12) for i in voltages]"
   ]
  },
  {
   "cell_type": "code",
   "execution_count": null,
   "metadata": {},
   "outputs": [],
   "source": [
    "import matplotlib.pyplot as plt\n",
    "from matplotlib import animation\n",
    "from IPython.display import HTML\n",
    "\n",
    "#create a combined figure of images and voltages using FuncAnimation\n",
    "fig, (ax1, ax2, ax3, ax4) = plt.subplots(1, 4, figsize=(20, 5))\n",
    "ax1.axis(\"off\")\n",
    "ax1.set_title(\"Input Frames\")\n",
    "ax2.set_title(\"Voltages\")\n",
    "ax3.set_title(\"Position\")\n",
    "ax4.set_title(\"Reward\")\n",
    "im1 = ax1.imshow(frames[0], animated=True)\n",
    "im2 = ax2.plot(voltages[0])[0]\n",
    "im3 = ax3.plot(poses[0][0], poses[0][1], 'ro')[0]\n",
    "im4 = ax4.plot(rewards[0])[0]\n",
    "#set plot colors\n",
    "def updatefig(i):\n",
    "    im1.set_array(frames[i])\n",
    "    ax2.clear()\n",
    "    ax2.set_title(\"Voltages\")\n",
    "    ax2.set_xlabel(\"Timestep (1/20 s)\")\n",
    "    ax2.set_ylabel(\"Voltage (V)\")\n",
    "    ax2.set_ylim(-12, 12)\n",
    "    #show legend\n",
    "    ax2.plot([i[0] for i in voltages[:i]], label=\"Left\")\n",
    "    ax2.plot([i[1] for i in voltages[:i]], label=\"Right\")\n",
    "    ax2.legend()\n",
    "\n",
    "    ax3.clear()\n",
    "    ax3.plot([i[0] for i in poses[:i]], [i[1] for i in poses[:i]], 'ro')\n",
    "    ax3.set_title(\"Position\")\n",
    "    ax3.set_xlabel(\"X (m)\")\n",
    "    ax3.set_ylabel(\"Y (m)\")\n",
    "    ax3.set_xlim(-3, 12)\n",
    "    ax3.set_ylim(-3, 5)\n",
    "\n",
    "    ax4.clear()\n",
    "    ax4.plot(rewards[:i])\n",
    "    ax4.set_title(\"Reward\")\n",
    "    ax4.set_xlabel(\"Timestep (1/20 s)\")\n",
    "    ax4.set_ylabel(\"Reward\")\n",
    "    #plot target\n",
    "    ax3.plot([10], [0], 'go')\n",
    "\n",
    "    return im1, im2\n",
    "ani = animation.FuncAnimation(fig, updatefig, frames=len(frames), interval=70, blit=True,\n",
    "                                repeat_delay=1000)\n",
    "\n",
    "HTML(ani.to_jshtml())"
   ]
  },
  {
   "cell_type": "code",
   "execution_count": null,
   "metadata": {},
   "outputs": [],
   "source": [
    "#animate x and y poses over time\n",
    "fig, ax = plt.subplots()\n",
    "x, y = zip(*poses)\n",
    "#add to animation\n",
    "#equal aspect ratio\n",
    "ax.scatter(x, [-i for i in y])\n",
    "ax.set_title('x and y positions over time')\n",
    "\n",
    "#add target pos in red\n",
    "ax.scatter([env.targetPose[0]], [env.targetPose[1]], color='red')\n",
    "\n",
    "#equal aspect ratio\n",
    "ax.set_aspect('equal', 'box')\n",
    "plt.show()\n",
    "\n",
    "#plot reward over time\n",
    "fig, ax = plt.subplots()\n",
    "ax.plot(rewards)\n",
    "ax.set_xlabel('timestep')\n",
    "ax.set_ylabel('reward')\n",
    "plt.show()"
   ]
  },
  {
   "cell_type": "code",
   "execution_count": null,
   "metadata": {},
   "outputs": [],
   "source": [
    "#show voltage / current graph in a 2x1 grid\n",
    "fig, (ax1, ax2) = plt.subplots(2, 1)\n",
    "ax1.plot(voltages)\n",
    "ax1.set_title('Voltage')\n",
    "ax1.set_ylabel('Volts')\n",
    "ax1.set_xlabel('Time (sec)')\n",
    "#stop scientific notation\n",
    "ax1.ticklabel_format(useOffset=False)\n",
    "plt.subplots_adjust(hspace=0.5)\n",
    "\n",
    "ax2.plot(currents)\n",
    "ax2.set_title('Current')\n",
    "ax2.set_ylabel('Amps')\n",
    "ax2.set_xlabel('Time (sec)')\n"
   ]
  }
 ],
 "metadata": {
  "kernelspec": {
   "display_name": "target",
   "language": "python",
   "name": "python3"
  },
  "language_info": {
   "codemirror_mode": {
    "name": "ipython",
    "version": 3
   },
   "file_extension": ".py",
   "mimetype": "text/x-python",
   "name": "python",
   "nbconvert_exporter": "python",
   "pygments_lexer": "ipython3",
   "version": "3.11.3"
  },
  "orig_nbformat": 4
 },
 "nbformat": 4,
 "nbformat_minor": 2
}
